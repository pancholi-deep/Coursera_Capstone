{
 "cells": [
  {
   "cell_type": "markdown",
   "metadata": {},
   "source": [
    "<center><h1> Capstone Project - The Battle of Neighborhoods</h1></center>"
   ]
  },
  {
   "cell_type": "markdown",
   "metadata": {},
   "source": [
    "<center><h2> Ahmedabad vs. Surat : Battle of Restaurants</h2></center>"
   ]
  },
  {
   "cell_type": "markdown",
   "metadata": {},
   "source": [
    "### 1. Introduction"
   ]
  },
  {
   "cell_type": "markdown",
   "metadata": {},
   "source": [
    "#### Business Problem:"
   ]
  },
  {
   "cell_type": "markdown",
   "metadata": {},
   "source": [
    "Ahmedabad and Surat are the two most important cities in Gujarat. There has been a war for supremacy in terms of quality of life, jobs, education, entertainment and recreational facilities that these cities have to offer to its residents. \n",
    "<br><br>This data science project attempts to analyze the restaurants in neighbourhoods of each of these two cities and tries to understand what cuisine is popular in them and also the trending places in these cities.\n",
    "In the end, it also suggests what the cities have to offer to someone who is contemplating to choose between opening a restaurant and investing in either of the cities.\n",
    "<br><br>The deciding factor would be the trending places to eat, famous cuisines around each neighbourhood in each of the cities compared to each other. \n",
    "<br><br>The business problem in this study assumes that people who would be interested in this study are those who would like to open a restaurant or a cafe in one of the two cities and also some foodie interested in looking at the trends of food in these two cities.\n",
    "<br><br>The decision to choose one over the other would depend on popular venues offering various cuisines in the neighbourhoods in each of these cities.\n",
    "<br><br>I aim to get answers to some of the questions like:\n",
    "1. What is the best location in both cities for pure Gujarati?\n",
    "2. Which areas have a large number of pure Gujarati Restaurant Market?\n",
    "3. Which all areas have less number of restaurant?\n",
    "4. Which is the best place to stay if I prefer pure Gujarati Cuisine?\n",
    "5. What places have the best restaurants in both cities?\n",
    "6. Which city and which place will be a good option to open a restaurant?"
   ]
  },
  {
   "cell_type": "markdown",
   "metadata": {},
   "source": [
    "#### Data:"
   ]
  },
  {
   "cell_type": "markdown",
   "metadata": {},
   "source": [
    "For this study, we needed data about neighbourhoods in each of these cities. \n",
    "<br>\n",
    "The data published by the government on postal codes for all India would serve us well for this study. \n",
    "<br>\n",
    "Source:https://data.gov.in/resources/all-india-pincode-directory-contact-details-along-latitude-and-longitude.\n",
    "<br><br>\n",
    "Restaurants data that contains list Locality, Restaurant name, Rating along with their latitude and longitude.\n",
    "<br>\n",
    "Source: https://www.kaggle.com/meemr5/zomato-ahmedabad-gandhinagar-restaurants-eda/data\n",
    "<br><br>\n",
    "Nearby places in each locality of both cities.\n",
    "<br>\n",
    "Source :Foursquare API\n",
    "<br>\n",
    "By using this API we will get all the venues in each neighbourhood."
   ]
  },
  {
   "cell_type": "markdown",
   "metadata": {},
   "source": [
    "### 2. Approach"
   ]
  },
  {
   "cell_type": "markdown",
   "metadata": {},
   "source": [
    "1. Collect the new delhi city data from Zomato kaggel dataset\n",
    "2. Using FourSquare API we will find all venues for each neighborhood.\n",
    "3. Filter out all venues that are nearby by locality.\n",
    "4. Using aggregative rating for each resturant to find the best places.\n",
    "5. Visualize the Ranking of neighborhoods using folium library(python)"
   ]
  },
  {
   "cell_type": "markdown",
   "metadata": {},
   "source": [
    "### 3. Results"
   ]
  },
  {
   "cell_type": "markdown",
   "metadata": {},
   "source": [
    "<img src = \"Data/1.png\">"
   ]
  },
  {
   "cell_type": "markdown",
   "metadata": {},
   "source": [
    "<img src = \"Data/2.png\">"
   ]
  },
  {
   "cell_type": "markdown",
   "metadata": {},
   "source": [
    "<img src = \"Data/3.png\">"
   ]
  },
  {
   "cell_type": "markdown",
   "metadata": {},
   "source": [
    "<img src = \"Data/4.png\">"
   ]
  },
  {
   "cell_type": "markdown",
   "metadata": {},
   "source": [
    "<img src = \"Data/5.png\">"
   ]
  },
  {
   "cell_type": "markdown",
   "metadata": {},
   "source": [
    "<img src = \"Data/6.png\">"
   ]
  },
  {
   "cell_type": "markdown",
   "metadata": {},
   "source": [
    "<img src = \"Data/7.png\">"
   ]
  },
  {
   "cell_type": "markdown",
   "metadata": {},
   "source": [
    "<img src = \"Data/8.png\">"
   ]
  },
  {
   "cell_type": "markdown",
   "metadata": {},
   "source": [
    "### 4. Conclusion"
   ]
  },
  {
   "cell_type": "markdown",
   "metadata": {},
   "source": [
    "1. Satellite is the locality with highest number of Gujarati cuisine restaurants in Ahmedabad\n",
    "2. Nanpura is the locality with highest number of Gujarati cuisine restaurants in Surat\n",
    "3. Lal Darwaja is the best locality in ahmedabad if you wish to have Gujarati Cuisine food\n",
    "4. City Light is the best locality in surat if you wish to have Gujarati Cuisine food\n",
    "5. Nanpura in Surat has higher number of Gujarati cuisine retaurants than Satellite in Ahmedabad.\n",
    "6. For a foodie interested in Gujarati food, Nanpura should be the place to go.\n",
    "7. In the clustering done in the notebook, we see that Surat city lacks venues for a tourist to enjoy, so ahmedabad is better in that prospect.\n",
    "8. But if a business man wants to invest and earn good money, surat maybe the ideal place for him as there will be no competitors"
   ]
  },
  {
   "cell_type": "code",
   "execution_count": null,
   "metadata": {},
   "outputs": [],
   "source": []
  }
 ],
 "metadata": {
  "kernelspec": {
   "display_name": "Python 3",
   "language": "python",
   "name": "python3"
  },
  "language_info": {
   "codemirror_mode": {
    "name": "ipython",
    "version": 3
   },
   "file_extension": ".py",
   "mimetype": "text/x-python",
   "name": "python",
   "nbconvert_exporter": "python",
   "pygments_lexer": "ipython3",
   "version": "3.6.8"
  }
 },
 "nbformat": 4,
 "nbformat_minor": 4
}
